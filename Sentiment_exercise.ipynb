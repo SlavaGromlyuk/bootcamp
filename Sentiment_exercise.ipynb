{
 "cells": [
  {
   "cell_type": "code",
   "execution_count": 2,
   "metadata": {},
   "outputs": [
    {
     "name": "stdout",
     "output_type": "stream",
     "text": [
      "<class 'pandas.core.frame.DataFrame'>\n",
      "RangeIndex: 34660 entries, 0 to 34659\n",
      "Data columns (total 21 columns):\n",
      " #   Column                Non-Null Count  Dtype  \n",
      "---  ------                --------------  -----  \n",
      " 0   id                    34660 non-null  object \n",
      " 1   name                  27900 non-null  object \n",
      " 2   asins                 34658 non-null  object \n",
      " 3   brand                 34660 non-null  object \n",
      " 4   categories            34660 non-null  object \n",
      " 5   keys                  34660 non-null  object \n",
      " 6   manufacturer          34660 non-null  object \n",
      " 7   reviews.date          34621 non-null  object \n",
      " 8   reviews.dateAdded     24039 non-null  object \n",
      " 9   reviews.dateSeen      34660 non-null  object \n",
      " 10  reviews.didPurchase   1 non-null      object \n",
      " 11  reviews.doRecommend   34066 non-null  object \n",
      " 12  reviews.id            1 non-null      float64\n",
      " 13  reviews.numHelpful    34131 non-null  float64\n",
      " 14  reviews.rating        34627 non-null  float64\n",
      " 15  reviews.sourceURLs    34660 non-null  object \n",
      " 16  reviews.text          34659 non-null  object \n",
      " 17  reviews.title         34654 non-null  object \n",
      " 18  reviews.userCity      0 non-null      float64\n",
      " 19  reviews.userProvince  0 non-null      float64\n",
      " 20  reviews.username      34653 non-null  object \n",
      "dtypes: float64(5), object(16)\n",
      "memory usage: 5.6+ MB\n"
     ]
    }
   ],
   "source": [
    "import pandas as pd\n",
    "\n",
    "reviews_data = pd.read_csv('amazon_product_reviews.csv', low_memory=False)\n",
    "reviews_data.info()\n",
    "\n",
    "reviews_data = reviews_data[['reviews.text']].dropna()\n",
    "reviews_data = reviews_data.sample(100)"
   ]
  },
  {
   "cell_type": "code",
   "execution_count": 3,
   "metadata": {},
   "outputs": [],
   "source": [
    "import spacy\n",
    "nlp = spacy.load('en_core_web_sm')\n",
    "\n",
    "# Function to convert text to lower case, remove stop words and punctuation\n",
    "def preprocess(text):\n",
    "    doc = nlp(text)\n",
    "    return ' '.join([token.lemma_.lower() for token in doc if not token.is_stop and not token.is_punct])\n",
    "\n",
    "# Function to convert preprocessed text to a SpaCy doc\n",
    "def get_doc(text):\n",
    "    return nlp(text)\n",
    "\n",
    "# Apply pre-processing\n",
    "reviews_data['processed_reviews'] = reviews_data['reviews.text'].apply(preprocess)\n",
    "reviews_data['doc'] = reviews_data['processed_reviews'].apply(get_doc)"
   ]
  },
  {
   "cell_type": "code",
   "execution_count": 4,
   "metadata": {},
   "outputs": [
    {
     "data": {
      "text/html": [
       "<div>\n",
       "<style scoped>\n",
       "    .dataframe tbody tr th:only-of-type {\n",
       "        vertical-align: middle;\n",
       "    }\n",
       "\n",
       "    .dataframe tbody tr th {\n",
       "        vertical-align: top;\n",
       "    }\n",
       "\n",
       "    .dataframe thead th {\n",
       "        text-align: right;\n",
       "    }\n",
       "</style>\n",
       "<table border=\"1\" class=\"dataframe\">\n",
       "  <thead>\n",
       "    <tr style=\"text-align: right;\">\n",
       "      <th></th>\n",
       "      <th>reviews.text</th>\n",
       "      <th>processed_reviews</th>\n",
       "      <th>doc</th>\n",
       "    </tr>\n",
       "  </thead>\n",
       "  <tbody>\n",
       "    <tr>\n",
       "      <th>943</th>\n",
       "      <td>My bf got me this as a birthday present from m...</td>\n",
       "      <td>bf get birthday present son like 7 large tell ...</td>\n",
       "      <td>(bf, get, birthday, present, son, like, 7, lar...</td>\n",
       "    </tr>\n",
       "    <tr>\n",
       "      <th>16651</th>\n",
       "      <td>It is easy and fun to use. This was a gift for...</td>\n",
       "      <td>easy fun use gift 4 year old granddaughter pla...</td>\n",
       "      <td>(easy, fun, use, gift, 4, year, old, granddaug...</td>\n",
       "    </tr>\n",
       "    <tr>\n",
       "      <th>26231</th>\n",
       "      <td>Purchased as a gift for the wife. She enjoys i...</td>\n",
       "      <td>purchase gift wife enjoy immensely</td>\n",
       "      <td>(purchase, gift, wife, enjoy, immensely)</td>\n",
       "    </tr>\n",
       "    <tr>\n",
       "      <th>30124</th>\n",
       "      <td>The product was easy to setup and use. I reall...</td>\n",
       "      <td>product easy setup use like</td>\n",
       "      <td>(product, easy, setup, use, like)</td>\n",
       "    </tr>\n",
       "    <tr>\n",
       "      <th>28138</th>\n",
       "      <td>Fairly easy to set up. Once running, it was fu...</td>\n",
       "      <td>fairly easy set run fun begin see alexa look f...</td>\n",
       "      <td>(fairly, easy, set, run, fun, begin, see, alex...</td>\n",
       "    </tr>\n",
       "  </tbody>\n",
       "</table>\n",
       "</div>"
      ],
      "text/plain": [
       "                                            reviews.text  \\\n",
       "943    My bf got me this as a birthday present from m...   \n",
       "16651  It is easy and fun to use. This was a gift for...   \n",
       "26231  Purchased as a gift for the wife. She enjoys i...   \n",
       "30124  The product was easy to setup and use. I reall...   \n",
       "28138  Fairly easy to set up. Once running, it was fu...   \n",
       "\n",
       "                                       processed_reviews  \\\n",
       "943    bf get birthday present son like 7 large tell ...   \n",
       "16651  easy fun use gift 4 year old granddaughter pla...   \n",
       "26231                 purchase gift wife enjoy immensely   \n",
       "30124                        product easy setup use like   \n",
       "28138  fairly easy set run fun begin see alexa look f...   \n",
       "\n",
       "                                                     doc  \n",
       "943    (bf, get, birthday, present, son, like, 7, lar...  \n",
       "16651  (easy, fun, use, gift, 4, year, old, granddaug...  \n",
       "26231           (purchase, gift, wife, enjoy, immensely)  \n",
       "30124                  (product, easy, setup, use, like)  \n",
       "28138  (fairly, easy, set, run, fun, begin, see, alex...  "
      ]
     },
     "execution_count": 4,
     "metadata": {},
     "output_type": "execute_result"
    }
   ],
   "source": [
    "reviews_data.head()"
   ]
  },
  {
   "cell_type": "code",
   "execution_count": 6,
   "metadata": {},
   "outputs": [
    {
     "ename": "ModuleNotFoundError",
     "evalue": "No module named 'textblob'",
     "output_type": "error",
     "traceback": [
      "\u001b[1;31m---------------------------------------------------------------------------\u001b[0m",
      "\u001b[1;31mModuleNotFoundError\u001b[0m                       Traceback (most recent call last)",
      "\u001b[1;32mc:\\Python\\Sentiment_exercise.ipynb Cell 4\u001b[0m line \u001b[0;36m1\n\u001b[1;32m----> <a href='vscode-notebook-cell:/c%3A/Python/Sentiment_exercise.ipynb#W3sZmlsZQ%3D%3D?line=0'>1</a>\u001b[0m \u001b[39mimport\u001b[39;00m \u001b[39mtextblob\u001b[39;00m  \n\u001b[0;32m      <a href='vscode-notebook-cell:/c%3A/Python/Sentiment_exercise.ipynb#W3sZmlsZQ%3D%3D?line=1'>2</a>\u001b[0m \u001b[39mfrom\u001b[39;00m \u001b[39mtextblob\u001b[39;00m \u001b[39mimport\u001b[39;00m TextBlob\n\u001b[0;32m      <a href='vscode-notebook-cell:/c%3A/Python/Sentiment_exercise.ipynb#W3sZmlsZQ%3D%3D?line=3'>4</a>\u001b[0m \u001b[39m# Function to analyze sentiment with TextBlob\u001b[39;00m\n",
      "\u001b[1;31mModuleNotFoundError\u001b[0m: No module named 'textblob'"
     ]
    }
   ],
   "source": [
    "import textblob  \n",
    "from textblob import TextBlob\n",
    "\n",
    "# Function to analyze sentiment with TextBlob\n",
    "def analyze_polarity(text):\n",
    "   \n",
    "    blob = TextBlob(text)\n",
    "    polarity = blob.sentiment.polarity\n",
    "    \n",
    "    return polarity"
   ]
  }
 ],
 "metadata": {
  "kernelspec": {
   "display_name": "myenv",
   "language": "python",
   "name": "python3"
  },
  "language_info": {
   "codemirror_mode": {
    "name": "ipython",
    "version": 3
   },
   "file_extension": ".py",
   "mimetype": "text/x-python",
   "name": "python",
   "nbconvert_exporter": "python",
   "pygments_lexer": "ipython3",
   "version": "3.11.6"
  }
 },
 "nbformat": 4,
 "nbformat_minor": 2
}
